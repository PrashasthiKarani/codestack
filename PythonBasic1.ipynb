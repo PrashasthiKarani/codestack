{
 "cells": [
  {
   "cell_type": "code",
   "execution_count": null,
   "metadata": {},
   "outputs": [],
   "source": [
    "#variable conditions : cannot be declared with numbers , can be used underscore or charcter \n",
    "#no special characters are allowed ,Data types are classes and variables are instance of the class \n",
    "#datatypes : integer , float ,boolean ,complex \n",
    "-------------------------------------\n",
    "--------------------------------------\n",
    "#string data type \n",
    "#List , tuple , set,dict\n",
    "#m=100 n=m which creates 1 memory object and two references \n",
    "#id() returns object reference , its a built in function"
   ]
  },
  {
   "cell_type": "code",
   "execution_count": 1,
   "metadata": {},
   "outputs": [
    {
     "ename": "SyntaxError",
     "evalue": "invalid syntax (<ipython-input-1-67e2e46b5c7e>, line 2)",
     "output_type": "error",
     "traceback": [
      "\u001b[1;36m  File \u001b[1;32m\"<ipython-input-1-67e2e46b5c7e>\"\u001b[1;36m, line \u001b[1;32m2\u001b[0m\n\u001b[1;33m    12num=10\u001b[0m\n\u001b[1;37m        ^\u001b[0m\n\u001b[1;31mSyntaxError\u001b[0m\u001b[1;31m:\u001b[0m invalid syntax\n"
     ]
    }
   ],
   "source": [
    "#example 1 : variables cannot be started with numbers \n",
    "\n",
    "12num=10\n",
    "print(12num)"
   ]
  },
  {
   "cell_type": "code",
   "execution_count": 2,
   "metadata": {},
   "outputs": [
    {
     "ename": "SyntaxError",
     "evalue": "invalid syntax (<ipython-input-2-2252d5c4d624>, line 3)",
     "output_type": "error",
     "traceback": [
      "\u001b[1;36m  File \u001b[1;32m\"<ipython-input-2-2252d5c4d624>\"\u001b[1;36m, line \u001b[1;32m3\u001b[0m\n\u001b[1;33m    num1.2=15\u001b[0m\n\u001b[1;37m         ^\u001b[0m\n\u001b[1;31mSyntaxError\u001b[0m\u001b[1;31m:\u001b[0m invalid syntax\n"
     ]
    }
   ],
   "source": [
    "#it cannot have any special charcters other than numbers (not in begining of variable), and underscore\n",
    "\n",
    "num1.2=15\n",
    "print(num1.2)"
   ]
  },
  {
   "cell_type": "code",
   "execution_count": 3,
   "metadata": {},
   "outputs": [
    {
     "name": "stdout",
     "output_type": "stream",
     "text": [
      "3170503713168\n",
      "3170503713168\n"
     ]
    }
   ],
   "source": [
    "#assignment refers to sinle memory location\n",
    "a=1000\n",
    "b=a\n",
    "print(id(a))\n",
    "print(id(b))"
   ]
  },
  {
   "cell_type": "code",
   "execution_count": 5,
   "metadata": {},
   "outputs": [
    {
     "name": "stdout",
     "output_type": "stream",
     "text": [
      "3170503713488\n",
      "3170503712944\n"
     ]
    }
   ],
   "source": [
    "#python variable is case sensitive and it refers different memory location as they are different objects altogether \n",
    "employeeid=1234\n",
    "employeeId=1234\n",
    "print(id(employeeid))\n",
    "print(id(employeeId))"
   ]
  },
  {
   "cell_type": "code",
   "execution_count": 6,
   "metadata": {},
   "outputs": [
    {
     "name": "stdout",
     "output_type": "stream",
     "text": [
      "2000\n"
     ]
    }
   ],
   "source": [
    "#multiword variable names are defined as below according to PEP8 standard in python \n",
    "distance_to_nearest_town=2000\n",
    "print(distance_to_nearest_town)"
   ]
  },
  {
   "cell_type": "code",
   "execution_count": 8,
   "metadata": {},
   "outputs": [
    {
     "name": "stdout",
     "output_type": "stream",
     "text": [
      "<class 'int'>\n",
      "<class 'float'>\n",
      "<class 'bool'>\n"
     ]
    }
   ],
   "source": [
    "#numerical data typpes \n",
    "a=100\n",
    "print(type(a))\n",
    "b=10.5\n",
    "print(type(b))\n",
    "nm=6>5\n",
    "print(type(nm))\n"
   ]
  },
  {
   "cell_type": "code",
   "execution_count": 15,
   "metadata": {},
   "outputs": [
    {
     "name": "stdout",
     "output_type": "stream",
     "text": [
      "datascience\n",
      "datascience\n",
      "data science\n",
      "data\"science\"\n"
     ]
    }
   ],
   "source": [
    "#strings - indexing starts from '0' in +ve direction and -1 in reverse direction , stores strings , there are many string \n",
    "#built in functions will be covered here \n",
    "a=\"datascience\"\n",
    "print(a)\n",
    "b='datascience'\n",
    "print(b)\n",
    "c='''data science'''\n",
    "print(c)\n",
    "d='data\"science\"'\n",
    "print(d)\n",
    "\n",
    "\n"
   ]
  },
  {
   "cell_type": "code",
   "execution_count": 17,
   "metadata": {},
   "outputs": [
    {
     "name": "stdout",
     "output_type": "stream",
     "text": [
      "P\n",
      "h\n"
     ]
    }
   ],
   "source": [
    "#accessing the character of a string \n",
    "#character of a string is accessed by its index and index starts with 0 in the +ve direction or -1 from the reverse direction\n",
    "a=\"Prash\"\n",
    "print(a[0])\n",
    "print(a[-1])"
   ]
  },
  {
   "cell_type": "code",
   "execution_count": 23,
   "metadata": {},
   "outputs": [
    {
     "name": "stdout",
     "output_type": "stream",
     "text": [
      "3170504126536\n",
      "3170504126536\n",
      "3170503499400\n",
      "True\n",
      "False\n"
     ]
    }
   ],
   "source": [
    "#string slicing : To access the range of characters in a string sling is used \n",
    "#question 1: \n",
    "\n",
    "animals           = ['python','gopher']\n",
    "more_animals      = animals\n",
    "even_more_animals = ['python','gopher']\n",
    "print(id(animals))\n",
    "print(id(more_animals))\n",
    "print(id(even_more_animals)) #refers to different identity hence is should return false\n",
    "print(animals is more_animals) \n",
    "print(animals is even_more_animals) "
   ]
  },
  {
   "cell_type": "code",
   "execution_count": 26,
   "metadata": {},
   "outputs": [
    {
     "name": "stdout",
     "output_type": "stream",
     "text": [
      "Enter the sentence: The Girl\n",
      "pass\n"
     ]
    }
   ],
   "source": [
    "#Q1 : Check if the inputted strings begins with capital letter \n",
    "\n",
    "def StringChecker():\n",
    "    stringin=input(\"Enter the sentence: \")\n",
    "    if(stringin.istitle()):\n",
    "        print(\"pass\")\n",
    "    else:\n",
    "        print(\"Does not meet the condition\")\n",
    "    \n",
    "StringChecker()"
   ]
  },
  {
   "cell_type": "code",
   "execution_count": 36,
   "metadata": {},
   "outputs": [
    {
     "name": "stdout",
     "output_type": "stream",
     "text": [
      "Enter the String:girl in wondercity\n",
      "enter the substring:girl\n",
      "substring found\n"
     ]
    }
   ],
   "source": [
    "#Q2: Check if the string contains a specific substring \n",
    "\n",
    "def SubStringChecker():\n",
    "    string1=input(\"Enter the String:\")\n",
    "    sub1=input(\"enter the substring:\")\n",
    "    if(sub1 in string1):\n",
    "        print(\"substring found\")\n",
    "    else:\n",
    "        print(\"substring not found\")\n",
    "SubStringChecker()"
   ]
  },
  {
   "cell_type": "code",
   "execution_count": 38,
   "metadata": {},
   "outputs": [
    {
     "name": "stdout",
     "output_type": "stream",
     "text": [
      "enter the string: The girl in the city \n",
      "enter the pattern to find the index : town\n",
      "-1\n"
     ]
    }
   ],
   "source": [
    "#Q3:index() and find()\n",
    "def FindPos():\n",
    "    input1=input(\"enter the string: \")\n",
    "    sub1=input(\"enter the pattern to find the index : \")\n",
    "    posvalue=input1.find(sub1)\n",
    "    print(posvalue)\n",
    "    \n",
    "FindPos()\n",
    "        \n",
    "# the find() function actually returns value as -1 whereas index throws the ValuError() if in case the substring is not found"
   ]
  },
  {
   "cell_type": "code",
   "execution_count": 39,
   "metadata": {},
   "outputs": [
    {
     "name": "stdout",
     "output_type": "stream",
     "text": [
      "enter the input string: Essential\n",
      "9\n"
     ]
    }
   ],
   "source": [
    "#Q4:Count the total num of a character in String \n",
    "def LenFinder():\n",
    "    strin=input(\"enter the input string: \")\n",
    "    print(len(strin))\n",
    "LenFinder()"
   ]
  },
  {
   "cell_type": "code",
   "execution_count": 40,
   "metadata": {},
   "outputs": [
    {
     "name": "stdout",
     "output_type": "stream",
     "text": [
      "enter the string : Prashasthi\n",
      "enter the charr\n",
      "1\n"
     ]
    }
   ],
   "source": [
    "#count the specific character in a String \n",
    "def FindCount():\n",
    "    strin=input(\"enter the string : \")\n",
    "    charac=input(\"enter the char\")\n",
    "    print(strin.count(charac))\n",
    "    \n",
    "FindCount()"
   ]
  },
  {
   "cell_type": "code",
   "execution_count": 41,
   "metadata": {},
   "outputs": [
    {
     "name": "stdout",
     "output_type": "stream",
     "text": [
      "My name is Prash and Iam 25 years old \n"
     ]
    }
   ],
   "source": [
    "#f-string , format , % ways in string \n",
    "\n",
    "name=\"Prash\"\n",
    "age=25\n",
    "print(f\"My name is {name} and Iam {age} years old \")"
   ]
  },
  {
   "cell_type": "code",
   "execution_count": 45,
   "metadata": {},
   "outputs": [
    {
     "name": "stdout",
     "output_type": "stream",
     "text": [
      "a_b_c\n"
     ]
    }
   ],
   "source": [
    "#join method \n",
    "print('_'.join(['a','b','c']))"
   ]
  },
  {
   "cell_type": "code",
   "execution_count": 3,
   "metadata": {},
   "outputs": [
    {
     "name": "stdout",
     "output_type": "stream",
     "text": [
      "PRASH\n",
      "prash\n"
     ]
    }
   ],
   "source": [
    "#case related string methods - islower() , isupper(),upper(),lower()\n",
    "strin=\"prash\"\n",
    "string1=\"PRASH\"\n",
    "print(strin.upper())\n",
    "print(string1.lower())\n"
   ]
  },
  {
   "cell_type": "code",
   "execution_count": 10,
   "metadata": {},
   "outputs": [
    {
     "name": "stdout",
     "output_type": "stream",
     "text": [
      "['Prash', 'Karani']\n",
      "Prash\n"
     ]
    }
   ],
   "source": [
    "strin=\"Prash Karani\"\n",
    "x=strin.split()\n",
    "print(x)\n",
    "print(x[0])"
   ]
  },
  {
   "cell_type": "code",
   "execution_count": 20,
   "metadata": {},
   "outputs": [
    {
     "name": "stdout",
     "output_type": "stream",
     "text": [
      "HelloWorld\n",
      "HelloWorld\n",
      "Hello\n",
      "llo\n",
      "dlroWolleH\n"
     ]
    }
   ],
   "source": [
    "#string slicing concept - to find the strings in index ranges, and denoted with ':' operator\n",
    "#slicing start with the startpos and ends with endPos (excluded)\n",
    "s=\"HelloWorld\"\n",
    "print(s[::])\n",
    "print(s[:])\n",
    "#first fivecharcter\n",
    "print(s[:5])\n",
    "#3rd to fith character\n",
    "print(s[2:5])\n",
    "#reverse the string\n",
    "print(s[::-1])"
   ]
  },
  {
   "cell_type": "code",
   "execution_count": 23,
   "metadata": {},
   "outputs": [
    {
     "name": "stdout",
     "output_type": "stream",
     "text": [
      "akeru\n"
     ]
    }
   ],
   "source": [
    "a=\"Edureka\"\n",
    "print(a[-1:-6:-1])"
   ]
  },
  {
   "cell_type": "code",
   "execution_count": 24,
   "metadata": {},
   "outputs": [
    {
     "name": "stdout",
     "output_type": "stream",
     "text": [
      "True\n"
     ]
    }
   ],
   "source": [
    "s = 'foo'\n",
    "t = 'bar'\n",
    "print('barf' in 2 * (s + t))"
   ]
  },
  {
   "cell_type": "code",
   "execution_count": 25,
   "metadata": {},
   "outputs": [
    {
     "ename": "TypeError",
     "evalue": "ord() expected a character, but string of length 3 found",
     "output_type": "error",
     "traceback": [
      "\u001b[1;31m---------------------------------------------------------------------------\u001b[0m",
      "\u001b[1;31mTypeError\u001b[0m                                 Traceback (most recent call last)",
      "\u001b[1;32m<ipython-input-25-fcfb99a2e7ea>\u001b[0m in \u001b[0;36m<module>\u001b[1;34m\u001b[0m\n\u001b[1;32m----> 1\u001b[1;33m \u001b[0mprint\u001b[0m\u001b[1;33m(\u001b[0m\u001b[0mord\u001b[0m\u001b[1;33m(\u001b[0m\u001b[1;34m'foo'\u001b[0m\u001b[1;33m)\u001b[0m\u001b[1;33m)\u001b[0m\u001b[1;33m\u001b[0m\u001b[1;33m\u001b[0m\u001b[0m\n\u001b[0m",
      "\u001b[1;31mTypeError\u001b[0m: ord() expected a character, but string of length 3 found"
     ]
    }
   ],
   "source": [
    "print(ord('foo'))\n",
    "#it returns the exception because ord() method expect a single character and it returns the integer value of that character \n",
    "#string with length 1 can be passed "
   ]
  },
  {
   "cell_type": "code",
   "execution_count": null,
   "metadata": {},
   "outputs": [],
   "source": []
  }
 ],
 "metadata": {
  "kernelspec": {
   "display_name": "Python 3",
   "language": "python",
   "name": "python3"
  },
  "language_info": {
   "codemirror_mode": {
    "name": "ipython",
    "version": 3
   },
   "file_extension": ".py",
   "mimetype": "text/x-python",
   "name": "python",
   "nbconvert_exporter": "python",
   "pygments_lexer": "ipython3",
   "version": "3.7.6"
  }
 },
 "nbformat": 4,
 "nbformat_minor": 4
}
